{
 "cells": [
  {
   "cell_type": "code",
   "execution_count": 1,
   "metadata": {},
   "outputs": [],
   "source": [
    "import nltk\n",
    "from nltk.stem import WordNetLemmatizer\n",
    "from nltk.corpus import stopwords\n",
    "from nltk.tokenize import word_tokenize\n",
    "\n",
    "import re"
   ]
  },
  {
   "cell_type": "code",
   "execution_count": 13,
   "metadata": {},
   "outputs": [
    {
     "name": "stdout",
     "output_type": "stream",
     "text": [
      "['Apaga', 'luz']\n"
     ]
    },
    {
     "ename": "AttributeError",
     "evalue": "'WordListCorpusReader' object has no attribute 'word'",
     "output_type": "error",
     "traceback": [
      "\u001b[1;31m---------------------------------------------------------------------------\u001b[0m",
      "\u001b[1;31mAttributeError\u001b[0m                            Traceback (most recent call last)",
      "\u001b[1;32mc:\\Users\\jtabo\\Documents\\fun\\clases\\clases\\flask-agenda\\flashapp2022\\nuevo.ipynb Cell 2'\u001b[0m in \u001b[0;36m<cell line: 41>\u001b[1;34m()\u001b[0m\n\u001b[0;32m     <a href='vscode-notebook-cell:/c%3A/Users/jtabo/Documents/fun/clases/clases/flask-agenda/flashapp2022/nuevo.ipynb#ch0000001?line=40'>41</a>\u001b[0m \u001b[39mfor\u001b[39;00m text \u001b[39min\u001b[39;00m texts:\n\u001b[0;32m     <a href='vscode-notebook-cell:/c%3A/Users/jtabo/Documents/fun/clases/clases/flask-agenda/flashapp2022/nuevo.ipynb#ch0000001?line=41'>42</a>\u001b[0m     tokens\n\u001b[1;32m---> <a href='vscode-notebook-cell:/c%3A/Users/jtabo/Documents/fun/clases/clases/flask-agenda/flashapp2022/nuevo.ipynb#ch0000001?line=42'>43</a>\u001b[0m     stopwords\u001b[39m.\u001b[39;49mword(stop_words)\n\u001b[0;32m     <a href='vscode-notebook-cell:/c%3A/Users/jtabo/Documents/fun/clases/clases/flask-agenda/flashapp2022/nuevo.ipynb#ch0000001?line=44'>45</a>\u001b[0m tokens\n",
      "\u001b[1;31mAttributeError\u001b[0m: 'WordListCorpusReader' object has no attribute 'word'"
     ]
    }
   ],
   "source": [
    "text = \"Cambiar el tema\"\n",
    "\n",
    "stop_words = [\"la\", \"a\", \"el\", \"en\"]\n",
    "\n",
    "palabras_claras = [\"luz\", \"claro\", \"blanco\", \"dia\"]\n",
    "\n",
    "palabras_oscuras = [\"oscuro\", \"negro\", \"noche\"]\n",
    "\n",
    "palabras_detectoras = [\"apag\", \"encend\", \"cambi\", \"modo\", \"tema\", \"pon\"]\n",
    "\n",
    "\n",
    "texts = [ \n",
    "    \"Apaga la luz\",\n",
    "    \"Enciende la luz\",\n",
    "    \"pon tema oscuro\",\n",
    "    \"pon tema claro\",\n",
    "    \"cambia el tema\",\n",
    "    \"establece modo oscuro\",\n",
    "    \"establece modo claro\",\n",
    "    \"pon pantalla en blanco\",\n",
    "    \"pon pantalla en negro\"\n",
    "    \"cambia a modo noche\",\n",
    "    \"cambia a modo dia\",\n",
    "]\n",
    "palabras_a_lematizar = {\n",
    "    \"apaga\"    : \"apag\",\n",
    "    \"oscuro\"   : \"oscur\",\n",
    "    \"encendido\": \"endend\",\n",
    "    \"pon\"      : \"pon\",\n",
    "    \"cambia\"   :\"cambi\",\n",
    "    \"establece\": \"establec\"\n",
    "}\n",
    "\n",
    "\n",
    "print([word for word in nltk.word_tokenize(texts[0]) if word not in stop_words])\n",
    "\n",
    "\n",
    "\n",
    "tokens = []\n",
    "\n",
    "for text in texts:\n",
    "    tokens\n",
    "    stopwords.word(stop_words)\n",
    "\n",
    "tokens\n",
    "\n",
    "\n"
   ]
  },
  {
   "cell_type": "code",
   "execution_count": 11,
   "metadata": {},
   "outputs": [],
   "source": [
    "def temaOscuro():\n",
    "    print(\"oscuro\")\n",
    "\n",
    "\n",
    "def temaClaro():\n",
    "    print(\"claro\")\n",
    "\n",
    "\n",
    "\n",
    "diccionario = {\n",
    "    'apag'  : temaOscuro,\n",
    "    'encend': temaClaro,\n",
    "    'claro' : temaClaro,\n",
    "    'blanco': temaClaro,\n",
    "    'dia'   : temaClaro,\n",
    "    'oscuro': temaOscuro,\n",
    "    'negro' : temaOscuro,\n",
    "    'noche' : temaOscuro\n",
    "}\n",
    "    "
   ]
  },
  {
   "cell_type": "code",
   "execution_count": 15,
   "metadata": {},
   "outputs": [
    {
     "ename": "TypeError",
     "evalue": "'module' object is not callable",
     "output_type": "error",
     "traceback": [
      "\u001b[1;31m---------------------------------------------------------------------------\u001b[0m",
      "\u001b[1;31mTypeError\u001b[0m                                 Traceback (most recent call last)",
      "\u001b[1;32mc:\\Users\\jtabo\\Documents\\fun\\clases\\clases\\flask-agenda\\flashapp2022\\nuevo.ipynb Cell 4'\u001b[0m in \u001b[0;36m<cell line: 3>\u001b[1;34m()\u001b[0m\n\u001b[0;32m      <a href='vscode-notebook-cell:/c%3A/Users/jtabo/Documents/fun/clases/clases/flask-agenda/flashapp2022/nuevo.ipynb#ch0000003?line=0'>1</a>\u001b[0m texto \u001b[39m=\u001b[39m texts[\u001b[39m0\u001b[39m]\n\u001b[1;32m----> <a href='vscode-notebook-cell:/c%3A/Users/jtabo/Documents/fun/clases/clases/flask-agenda/flashapp2022/nuevo.ipynb#ch0000003?line=2'>3</a>\u001b[0m \u001b[39mprint\u001b[39m ([word \u001b[39mfor\u001b[39;00m word \u001b[39min\u001b[39;00m nltk\u001b[39m.\u001b[39;49mtokenize(texto) \u001b[39mif\u001b[39;00m word \u001b[39mnot\u001b[39;00m \u001b[39min\u001b[39;00m stop_words])\n",
      "\u001b[1;31mTypeError\u001b[0m: 'module' object is not callable"
     ]
    }
   ],
   "source": [
    "texto = texts[0]\n",
    "\n",
    "print ([word for word in nltk.tokenize(texto) if word not in stop_words])"
   ]
  },
  {
   "cell_type": "code",
   "execution_count": null,
   "metadata": {},
   "outputs": [],
   "source": [
    "def ejemplo():\n",
    "    print(\"hello\")\n",
    "\n",
    "test = {\n",
    "    \"cambiar_tema\":ejemplo,\n",
    "    \"adios\":ejemplo\n",
    "}\n",
    "\n",
    "test[\"hola\"]()"
   ]
  }
 ],
 "metadata": {
  "kernelspec": {
   "display_name": "Python 3.10.5 64-bit",
   "language": "python",
   "name": "python3"
  },
  "language_info": {
   "codemirror_mode": {
    "name": "ipython",
    "version": 3
   },
   "file_extension": ".py",
   "mimetype": "text/x-python",
   "name": "python",
   "nbconvert_exporter": "python",
   "pygments_lexer": "ipython3",
   "version": "3.10.5"
  },
  "orig_nbformat": 4,
  "vscode": {
   "interpreter": {
    "hash": "6f0bd03cbeb5a1636823079604d3f3fdd20cac66e4b3baf84d6a6f3fe8cf4933"
   }
  }
 },
 "nbformat": 4,
 "nbformat_minor": 2
}
